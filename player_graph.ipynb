{
 "cells": [
  {
   "cell_type": "code",
   "execution_count": 2,
   "metadata": {},
   "outputs": [
    {
     "name": "stdout",
     "output_type": "stream",
     "text": [
      "Intel MKL WARNING: Support of Intel(R) Streaming SIMD Extensions 4.2 (Intel(R) SSE4.2) enabled only processors has been deprecated. Intel oneAPI Math Kernel Library 2025.0 will require Intel(R) Advanced Vector Extensions (Intel(R) AVX) instructions.\n",
      "Intel MKL WARNING: Support of Intel(R) Streaming SIMD Extensions 4.2 (Intel(R) SSE4.2) enabled only processors has been deprecated. Intel oneAPI Math Kernel Library 2025.0 will require Intel(R) Advanced Vector Extensions (Intel(R) AVX) instructions.\n"
     ]
    }
   ],
   "source": [
    "import pandas as pd\n",
    "import math\n",
    "import numpy as np\n",
    "from sklearn.cluster import KMeans"
   ]
  },
  {
   "cell_type": "code",
   "execution_count": 9,
   "metadata": {},
   "outputs": [],
   "source": [
    "df = pd.read_csv('player_metrics_most_recent_season.csv')\n",
    "df= df.drop(columns=[\"ID1\",\"Flags\"])"
   ]
  },
  {
   "cell_type": "code",
   "execution_count": 10,
   "metadata": {},
   "outputs": [
    {
     "data": {
      "text/plain": [
       "array([['abreujo02', 3.317, 0.005142636, 0.915831351, 0.116471399,\n",
       "        0.060078724],\n",
       "       ['acunaro01', 3.455, 0.017538071, 0.95428605, 0.125329815,\n",
       "        0.092403628],\n",
       "       ['adamewi01', -0.653, -0.002633065, 0.884808095, 0.096602265,\n",
       "        0.059388122],\n",
       "       ...,\n",
       "       ['zimmejo02', -0.734, -0.014979592, 0.544221598, 0.020895522,\n",
       "        0.015345269],\n",
       "       ['zimmery01', -3.784, -0.002884146, 0.872717348, 0.108656447,\n",
       "        0.065117536],\n",
       "       ['zuninmi01', -5.617, -0.011581443, 0.736132945, 0.100429855,\n",
       "        0.041622575]], dtype=object)"
      ]
     },
     "execution_count": 10,
     "metadata": {},
     "output_type": "execute_result"
    }
   ],
   "source": [
    "df_array = np.asarray(df)\n",
    "df_array"
   ]
  },
  {
   "cell_type": "code",
   "execution_count": 44,
   "metadata": {},
   "outputs": [
    {
     "data": {
      "text/plain": [
       "array([[0.e+000, 5.e-324, 1.e-323]])"
      ]
     },
     "execution_count": 44,
     "metadata": {},
     "output_type": "execute_result"
    }
   ],
   "source": [
    "arr = np.empty((1,3))\n",
    "arr"
   ]
  },
  {
   "cell_type": "code",
   "execution_count": 45,
   "metadata": {},
   "outputs": [
    {
     "name": "stdout",
     "output_type": "stream",
     "text": [
      "[['0.0' '5e-324' '1e-323']\n",
      " ['abreujo02' 'acunaro01' '0.9982385778235338']\n",
      " ['abreujo02' 'adamewi01' '-0.09297674245447848']\n",
      " ...\n",
      " ['zuninmi01' 'zimmebr01' '0.36319887210403107']\n",
      " ['zuninmi01' 'zimmejo02' '0.15930229330402948']\n",
      " ['zuninmi01' 'zimmery01' '0.8663807176704542']]\n"
     ]
    }
   ],
   "source": [
    "\n",
    "# calculate tanimoto coefficient\n",
    "for i in df_array:\n",
    "    for j in df_array:\n",
    "        if i[0] != j[0]:\n",
    "            i_norm = np.linalg.norm(i[1:])\n",
    "            j_norm = np.linalg.norm(j[1:])\n",
    "            i_norm_squared = i_norm * i_norm\n",
    "            j_norm_squared = j_norm * j_norm\n",
    "            i_dot_j = np.dot(i[1:], j[1:])\n",
    "            t_coef =  i_dot_j/(i_norm_squared + j_norm_squared - i_dot_j)\n",
    "            row = [i[0],j[0],t_coef]\n",
    "            arr = np.append(arr, [row], axis=0)\n",
    "print(arr)\n",
    "\n",
    "            \n",
    "    "
   ]
  },
  {
   "cell_type": "code",
   "execution_count": 46,
   "metadata": {},
   "outputs": [],
   "source": [
    "df_arr = pd.DataFrame(arr)"
   ]
  },
  {
   "cell_type": "code",
   "execution_count": 47,
   "metadata": {},
   "outputs": [],
   "source": [
    "df_arr.columns = ['ID1', 'ID2', 'Tanimoto Coefficient']"
   ]
  },
  {
   "cell_type": "code",
   "execution_count": 3,
   "metadata": {},
   "outputs": [
    {
     "ename": "NameError",
     "evalue": "name 'df_arr' is not defined",
     "output_type": "error",
     "traceback": [
      "\u001b[0;31m---------------------------------------------------------------------------\u001b[0m",
      "\u001b[0;31mNameError\u001b[0m                                 Traceback (most recent call last)",
      "Cell \u001b[0;32mIn[3], line 1\u001b[0m\n\u001b[0;32m----> 1\u001b[0m df_arr \u001b[38;5;241m=\u001b[39m \u001b[43mdf_arr\u001b[49m[df_arr[\u001b[38;5;124m\"\u001b[39m\u001b[38;5;124mID1\u001b[39m\u001b[38;5;124m\"\u001b[39m]\u001b[38;5;241m!=\u001b[39m\u001b[38;5;124m'\u001b[39m\u001b[38;5;124m0.0\u001b[39m\u001b[38;5;124m'\u001b[39m]\n\u001b[1;32m      2\u001b[0m df_arr\u001b[38;5;241m.\u001b[39mreset_index()\n\u001b[1;32m      3\u001b[0m df_arr\n",
      "\u001b[0;31mNameError\u001b[0m: name 'df_arr' is not defined"
     ]
    }
   ],
   "source": [
    "df_arr = df_arr[df_arr[\"ID1\"]!='0.0']\n",
    "df_arr.reset_index()\n",
    "df_arr"
   ]
  },
  {
   "cell_type": "code",
   "execution_count": 1,
   "metadata": {},
   "outputs": [
    {
     "ename": "NameError",
     "evalue": "name 'df_arr' is not defined",
     "output_type": "error",
     "traceback": [
      "\u001b[0;31m---------------------------------------------------------------------------\u001b[0m",
      "\u001b[0;31mNameError\u001b[0m                                 Traceback (most recent call last)",
      "Cell \u001b[0;32mIn[1], line 1\u001b[0m\n\u001b[0;32m----> 1\u001b[0m df_arr[\u001b[38;5;124m\"\u001b[39m\u001b[38;5;124mvalue\u001b[39m\u001b[38;5;124m\"\u001b[39m] \u001b[38;5;241m=\u001b[39m \u001b[43mdf_arr\u001b[49m[\u001b[38;5;124m\"\u001b[39m\u001b[38;5;124mTanimoto Coefficient\u001b[39m\u001b[38;5;124m\"\u001b[39m]\u001b[38;5;241m.\u001b[39mastype(\u001b[38;5;28mfloat\u001b[39m)\n",
      "\u001b[0;31mNameError\u001b[0m: name 'df_arr' is not defined"
     ]
    }
   ],
   "source": [
    "df_arr[\"value\"] = df_arr[\"Tanimoto Coefficient\"].astype(float)"
   ]
  },
  {
   "cell_type": "code",
   "execution_count": 2,
   "metadata": {},
   "outputs": [
    {
     "ename": "NameError",
     "evalue": "name 'df_arr' is not defined",
     "output_type": "error",
     "traceback": [
      "\u001b[0;31m---------------------------------------------------------------------------\u001b[0m",
      "\u001b[0;31mNameError\u001b[0m                                 Traceback (most recent call last)",
      "Cell \u001b[0;32mIn[2], line 1\u001b[0m\n\u001b[0;32m----> 1\u001b[0m \u001b[43mdf_arr\u001b[49m\u001b[38;5;241m.\u001b[39msort_values(by\u001b[38;5;241m=\u001b[39m\u001b[38;5;124m\"\u001b[39m\u001b[38;5;124mvalue\u001b[39m\u001b[38;5;124m\"\u001b[39m, ascending\u001b[38;5;241m=\u001b[39m\u001b[38;5;28;01mFalse\u001b[39;00m)\n",
      "\u001b[0;31mNameError\u001b[0m: name 'df_arr' is not defined"
     ]
    }
   ],
   "source": [
    "df_arr.sort_values(by=\"Tanimoto Coefficient\", ascending=False)"
   ]
  },
  {
   "cell_type": "code",
   "execution_count": null,
   "metadata": {},
   "outputs": [
    {
     "data": {
      "text/html": [
       "<div>\n",
       "<style scoped>\n",
       "    .dataframe tbody tr th:only-of-type {\n",
       "        vertical-align: middle;\n",
       "    }\n",
       "\n",
       "    .dataframe tbody tr th {\n",
       "        vertical-align: top;\n",
       "    }\n",
       "\n",
       "    .dataframe thead th {\n",
       "        text-align: right;\n",
       "    }\n",
       "</style>\n",
       "<table border=\"1\" class=\"dataframe\">\n",
       "  <thead>\n",
       "    <tr style=\"text-align: right;\">\n",
       "      <th></th>\n",
       "      <th>ID1</th>\n",
       "      <th>ID2</th>\n",
       "      <th>Tanimoto Coefficient</th>\n",
       "    </tr>\n",
       "  </thead>\n",
       "  <tbody>\n",
       "    <tr>\n",
       "      <th>1</th>\n",
       "      <td>abreujo02</td>\n",
       "      <td>acunaro01</td>\n",
       "      <td>0.998239</td>\n",
       "    </tr>\n",
       "    <tr>\n",
       "      <th>14</th>\n",
       "      <td>abreujo02</td>\n",
       "      <td>alforan01</td>\n",
       "      <td>0.515912</td>\n",
       "    </tr>\n",
       "    <tr>\n",
       "      <th>51</th>\n",
       "      <td>abreujo02</td>\n",
       "      <td>beltbr01</td>\n",
       "      <td>0.529478</td>\n",
       "    </tr>\n",
       "    <tr>\n",
       "      <th>56</th>\n",
       "      <td>abreujo02</td>\n",
       "      <td>bichebo01</td>\n",
       "      <td>0.951790</td>\n",
       "    </tr>\n",
       "    <tr>\n",
       "      <th>60</th>\n",
       "      <td>abreujo02</td>\n",
       "      <td>bogaexa01</td>\n",
       "      <td>0.997988</td>\n",
       "    </tr>\n",
       "    <tr>\n",
       "      <th>...</th>\n",
       "      <td>...</td>\n",
       "      <td>...</td>\n",
       "      <td>...</td>\n",
       "    </tr>\n",
       "    <tr>\n",
       "      <th>392423</th>\n",
       "      <td>zuninmi01</td>\n",
       "      <td>tapiara01</td>\n",
       "      <td>0.530934</td>\n",
       "    </tr>\n",
       "    <tr>\n",
       "      <th>392448</th>\n",
       "      <td>zuninmi01</td>\n",
       "      <td>uptonju01</td>\n",
       "      <td>0.884204</td>\n",
       "    </tr>\n",
       "    <tr>\n",
       "      <th>392454</th>\n",
       "      <td>zuninmi01</td>\n",
       "      <td>valaipa01</td>\n",
       "      <td>0.646869</td>\n",
       "    </tr>\n",
       "    <tr>\n",
       "      <th>392466</th>\n",
       "      <td>zuninmi01</td>\n",
       "      <td>vogtst01</td>\n",
       "      <td>0.964214</td>\n",
       "    </tr>\n",
       "    <tr>\n",
       "      <th>392502</th>\n",
       "      <td>zuninmi01</td>\n",
       "      <td>zimmery01</td>\n",
       "      <td>0.866381</td>\n",
       "    </tr>\n",
       "  </tbody>\n",
       "</table>\n",
       "<p>160178 rows × 3 columns</p>\n",
       "</div>"
      ],
      "text/plain": [
       "              ID1        ID2  Tanimoto Coefficient\n",
       "1       abreujo02  acunaro01              0.998239\n",
       "14      abreujo02  alforan01              0.515912\n",
       "51      abreujo02   beltbr01              0.529478\n",
       "56      abreujo02  bichebo01              0.951790\n",
       "60      abreujo02  bogaexa01              0.997988\n",
       "...           ...        ...                   ...\n",
       "392423  zuninmi01  tapiara01              0.530934\n",
       "392448  zuninmi01  uptonju01              0.884204\n",
       "392454  zuninmi01  valaipa01              0.646869\n",
       "392466  zuninmi01   vogtst01              0.964214\n",
       "392502  zuninmi01  zimmery01              0.866381\n",
       "\n",
       "[160178 rows x 3 columns]"
      ]
     },
     "execution_count": 61,
     "metadata": {},
     "output_type": "execute_result"
    }
   ],
   "source": [
    "df_filtered = df_arr[df_arr[\"Tanimoto Coefficient\"] > 0.5]\n",
    "df_filtered"
   ]
  },
  {
   "cell_type": "code",
   "execution_count": 62,
   "metadata": {},
   "outputs": [],
   "source": [
    "df_filtered.to_csv(\"player_graph.csv\")"
   ]
  },
  {
   "cell_type": "code",
   "execution_count": 5,
   "metadata": {},
   "outputs": [
    {
     "name": "stdout",
     "output_type": "stream",
     "text": [
      "Intel MKL WARNING: Support of Intel(R) Streaming SIMD Extensions 4.2 (Intel(R) SSE4.2) enabled only processors has been deprecated. Intel oneAPI Math Kernel Library 2025.0 will require Intel(R) Advanced Vector Extensions (Intel(R) AVX) instructions.\n",
      "Intel MKL WARNING: Support of Intel(R) Streaming SIMD Extensions 4.2 (Intel(R) SSE4.2) enabled only processors has been deprecated. Intel oneAPI Math Kernel Library 2025.0 will require Intel(R) Advanced Vector Extensions (Intel(R) AVX) instructions.\n"
     ]
    }
   ],
   "source": [
    "import pandas as pd"
   ]
  },
  {
   "cell_type": "code",
   "execution_count": 7,
   "metadata": {},
   "outputs": [],
   "source": [
    "df = pd.read_csv(\"player_graph.csv\")"
   ]
  },
  {
   "cell_type": "code",
   "execution_count": 11,
   "metadata": {},
   "outputs": [],
   "source": [
    "df[\"value\"] = df[\"Tanimoto Coefficient\"].round()"
   ]
  },
  {
   "cell_type": "code",
   "execution_count": 12,
   "metadata": {},
   "outputs": [
    {
     "data": {
      "text/html": [
       "<div>\n",
       "<style scoped>\n",
       "    .dataframe tbody tr th:only-of-type {\n",
       "        vertical-align: middle;\n",
       "    }\n",
       "\n",
       "    .dataframe tbody tr th {\n",
       "        vertical-align: top;\n",
       "    }\n",
       "\n",
       "    .dataframe thead th {\n",
       "        text-align: right;\n",
       "    }\n",
       "</style>\n",
       "<table border=\"1\" class=\"dataframe\">\n",
       "  <thead>\n",
       "    <tr style=\"text-align: right;\">\n",
       "      <th></th>\n",
       "      <th>Unnamed: 0</th>\n",
       "      <th>ID1</th>\n",
       "      <th>ID2</th>\n",
       "      <th>Tanimoto Coefficient</th>\n",
       "      <th>value</th>\n",
       "    </tr>\n",
       "  </thead>\n",
       "  <tbody>\n",
       "    <tr>\n",
       "      <th>0</th>\n",
       "      <td>1</td>\n",
       "      <td>abreujo02</td>\n",
       "      <td>acunaro01</td>\n",
       "      <td>0.998239</td>\n",
       "      <td>1.0</td>\n",
       "    </tr>\n",
       "    <tr>\n",
       "      <th>1</th>\n",
       "      <td>14</td>\n",
       "      <td>abreujo02</td>\n",
       "      <td>alforan01</td>\n",
       "      <td>0.515912</td>\n",
       "      <td>1.0</td>\n",
       "    </tr>\n",
       "    <tr>\n",
       "      <th>2</th>\n",
       "      <td>51</td>\n",
       "      <td>abreujo02</td>\n",
       "      <td>beltbr01</td>\n",
       "      <td>0.529478</td>\n",
       "      <td>1.0</td>\n",
       "    </tr>\n",
       "    <tr>\n",
       "      <th>3</th>\n",
       "      <td>56</td>\n",
       "      <td>abreujo02</td>\n",
       "      <td>bichebo01</td>\n",
       "      <td>0.951790</td>\n",
       "      <td>1.0</td>\n",
       "    </tr>\n",
       "    <tr>\n",
       "      <th>4</th>\n",
       "      <td>60</td>\n",
       "      <td>abreujo02</td>\n",
       "      <td>bogaexa01</td>\n",
       "      <td>0.997988</td>\n",
       "      <td>1.0</td>\n",
       "    </tr>\n",
       "  </tbody>\n",
       "</table>\n",
       "</div>"
      ],
      "text/plain": [
       "   Unnamed: 0        ID1        ID2  Tanimoto Coefficient  value\n",
       "0           1  abreujo02  acunaro01              0.998239    1.0\n",
       "1          14  abreujo02  alforan01              0.515912    1.0\n",
       "2          51  abreujo02   beltbr01              0.529478    1.0\n",
       "3          56  abreujo02  bichebo01              0.951790    1.0\n",
       "4          60  abreujo02  bogaexa01              0.997988    1.0"
      ]
     },
     "execution_count": 12,
     "metadata": {},
     "output_type": "execute_result"
    }
   ],
   "source": [
    "df.head()"
   ]
  },
  {
   "cell_type": "code",
   "execution_count": 13,
   "metadata": {},
   "outputs": [],
   "source": [
    "df.to_csv(\"player_graph2.csv\")"
   ]
  }
 ],
 "metadata": {
  "kernelspec": {
   "display_name": "Python 3",
   "language": "python",
   "name": "python3"
  },
  "language_info": {
   "codemirror_mode": {
    "name": "ipython",
    "version": 3
   },
   "file_extension": ".py",
   "mimetype": "text/x-python",
   "name": "python",
   "nbconvert_exporter": "python",
   "pygments_lexer": "ipython3",
   "version": "3.9.19"
  }
 },
 "nbformat": 4,
 "nbformat_minor": 2
}
